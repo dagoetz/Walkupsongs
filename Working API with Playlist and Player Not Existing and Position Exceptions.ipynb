{
 "cells": [
  {
   "cell_type": "code",
   "execution_count": 39,
   "metadata": {},
   "outputs": [
    {
     "name": "stdout",
     "output_type": "stream",
     "text": [
      "Enter an active MLB player or type 'quit': Albert Pujols\n"
     ]
    },
    {
     "data": {
      "text/html": [
       "<img src='https://content.mlb.com/images/headshots/current/60x60/405395@3x.png'>"
      ],
      "text/plain": [
       "<IPython.core.display.HTML object>"
      ]
     },
     "metadata": {},
     "output_type": "display_data"
    },
    {
     "name": "stdout",
     "output_type": "stream",
     "text": [
      "       Team         Player  Artist                   Song  \\\n",
      "644  Angels  Albert Pujols  Lecrae  Don’t Waste Your Life   \n",
      "\n",
      "                                              Playlist Average Home Runs RBI  \n",
      "644  https://open.spotify.com/user/crfv73qfpinw7aq9...    .245        19  64  \n"
     ]
    }
   ],
   "source": [
    "#below imports everthing we need\n",
    "import pandas as pd\n",
    "import numpy as np\n",
    "import requests\n",
    "import warnings\n",
    "import sys\n",
    "import json\n",
    "\n",
    "\n",
    "mlbsong=pd.read_csv('MLB_Walkup.csv')\n",
    "mlbplayer=input(\"Enter an active MLB player or type 'quit': \")\n",
    "\n",
    "songdata = mlbsong\n",
    "songdf = pd.DataFrame(songdata)\n",
    "\n",
    "while True:\n",
    "    try:\n",
    "        #if user enters 'quit', end program\n",
    "        if mlbplayer == 'quit':\n",
    "            break        \n",
    "        \n",
    "        #makes dataframe for team, player, artist, song, playlist link\n",
    "        row =(songdf.loc[songdf['Player'] == mlbplayer])\n",
    "        row = pd.DataFrame({'Team': row['Team'],'Player': row['Player'], 'Artist': row['Artist'], 'Song': row['Song'], 'Playlist': row['Playlist']})\n",
    "        #row\n",
    "\n",
    "        #makes playlist link clickable\n",
    "        def make_clickable(val):\n",
    "            return '<a target=\"_blank\" href=\"{}\">{}</a>'.format(val, val)\n",
    "\n",
    "        row.style.format({'Playlist': make_clickable})\n",
    "\n",
    "        if songdf['Player'].count == 0:\n",
    "            print(\"player doesn't exist\")\n",
    "        else:\n",
    "\n",
    "            #beginning of mlb api\n",
    "            url=(\"http://lookup-service-prod.mlb.com//json/named.search_player_all.bam?sport_code='mlb'&active_sw='Y'&name_part='%s'\" % (mlbplayer)) \n",
    "            response=requests.get(url)\n",
    "            response.ok\n",
    "\n",
    "            #below gets player id for url2 and url3 as well as position to determine whether player is batter or pitcher\n",
    "            player=response.json()\n",
    "            playerid=player['search_player_all']['queryResults']['row']['player_id']\n",
    "            position=player['search_player_all']['queryResults']['row']['position']\n",
    "            playername=player['search_player_all']['queryResults']['row']['name_display_first_last']\n",
    "\n",
    "            if position == \"P\":\n",
    "                #below is for pitchers\n",
    "                purl=(\"http://lookup-service-prod.mlb.com//json/named.sport_pitching_tm.bam?league_list_id='mlb'&game_type='R'&season='2018'&player_id='%s'\" % (playerid))\n",
    "                response3=requests.get(purl)\n",
    "                response3.ok\n",
    "                p_stats=response3.json()\n",
    "                wins=p_stats['sport_pitching_tm']['queryResults']['row']['w']\n",
    "                innings=p_stats['sport_pitching_tm']['queryResults']['row']['ip']\n",
    "                strikeouts=p_stats['sport_pitching_tm']['queryResults']['row']['so']\n",
    "               # print(\"Player\", playername, \"Position\", position, \"Wins:\", wins, \"Innings:\", innings, \"Strikeouts:\", strikeouts)\n",
    "                #print(row)\n",
    "                #picture()\n",
    "                pitchers = pd.DataFrame({'Team': row['Team'],'Player': row['Player'], 'Artist': row['Artist'], 'Song': row['Song'], 'Playlist': row['Playlist'],'Wins': wins, 'Innings': innings, 'Strikeouts': strikeouts})\n",
    "                picture()\n",
    "                print(pitchers)\n",
    "                break\n",
    "                \n",
    "                \n",
    "                \n",
    "            \n",
    "            else:\n",
    "                #below is for batters\n",
    "                burl=(\"http://lookup-service-prod.mlb.com//json/named.sport_hitting_tm.bam?league_list_id='mlb'&game_type='R'&season='2018'&player_id='%s'\" % (playerid))\n",
    "                response2=requests.get(burl)\n",
    "                response2.ok\n",
    "                b_stats=response2.json()\n",
    "                average=b_stats['sport_hitting_tm']['queryResults']['row']['avg']\n",
    "                hr=b_stats['sport_hitting_tm']['queryResults']['row']['hr']\n",
    "                rbi=b_stats['sport_hitting_tm']['queryResults']['row']['rbi']\n",
    "                #print(\"Player\", playername, \"Position\", position, \"Average:\", average, \"Home Runs:\", hr, \"RBI:\", rbi)\n",
    "                #print(row)\n",
    "                #picture()\n",
    "                batters = pd.DataFrame({'Team': row['Team'],'Player': row['Player'], 'Artist': row['Artist'], 'Song': row['Song'], 'Playlist': row['Playlist'], 'Average': average, 'Home Runs': hr, 'RBI': rbi})\n",
    "                picture()\n",
    "                print(batters)\n",
    "                break\n",
    "                \n",
    "                \n",
    "            \n",
    "            \n",
    "    except KeyError:\n",
    "        print(\"This player does not exist, is spelled wrong, was not active in 2018, or is not in the database of mlb.com/entertainment\")\n",
    "        break\n"
   ]
  },
  {
   "cell_type": "code",
   "execution_count": 32,
   "metadata": {},
   "outputs": [],
   "source": [
    "from IPython.display import display, HTML\n",
    "def picture():\n",
    "    display (HTML(\"<img src='https://content.mlb.com/images/headshots/current/60x60/%s@3x.png'>\"%(playerid)))"
   ]
  },
  {
   "cell_type": "code",
   "execution_count": 41,
   "metadata": {},
   "outputs": [
    {
     "ename": "NameError",
     "evalue": "name 'bdf' is not defined",
     "output_type": "error",
     "traceback": [
      "\u001b[0;31m---------------------------------------------------------------------------\u001b[0m",
      "\u001b[0;31mNameError\u001b[0m                                 Traceback (most recent call last)",
      "\u001b[0;32m<ipython-input-41-dd539b5297f7>\u001b[0m in \u001b[0;36m<module>\u001b[0;34m\u001b[0m\n\u001b[1;32m      1\u001b[0m \u001b[0;31m#we need to make batter dataframe (bdf) and pitcher dataframe (pdf) everthing else below is how we are going to merge it, I think\u001b[0m\u001b[0;34m\u001b[0m\u001b[0;34m\u001b[0m\u001b[0m\n\u001b[1;32m      2\u001b[0m \u001b[0;34m\u001b[0m\u001b[0m\n\u001b[0;32m----> 3\u001b[0;31m \u001b[0mbmerged_dataframe\u001b[0m \u001b[0;34m=\u001b[0m \u001b[0msongdf\u001b[0m\u001b[0;34m.\u001b[0m\u001b[0mmerge\u001b[0m\u001b[0;34m(\u001b[0m\u001b[0mbdf\u001b[0m\u001b[0;34m,\u001b[0m \u001b[0mleft_on\u001b[0m\u001b[0;34m=\u001b[0m\u001b[0;34m'playername'\u001b[0m\u001b[0;34m,\u001b[0m \u001b[0mright_on\u001b[0m\u001b[0;34m=\u001b[0m\u001b[0;34m'playername'\u001b[0m\u001b[0;34m,\u001b[0m \u001b[0mhow\u001b[0m\u001b[0;34m=\u001b[0m\u001b[0;34m'inner'\u001b[0m\u001b[0;34m)\u001b[0m\u001b[0;34m\u001b[0m\u001b[0m\n\u001b[0m\u001b[1;32m      4\u001b[0m \u001b[0mbmerged_dataframe\u001b[0m\u001b[0;34m.\u001b[0m\u001b[0mhead\u001b[0m\u001b[0;34m(\u001b[0m\u001b[0;34m)\u001b[0m\u001b[0;34m\u001b[0m\u001b[0m\n\u001b[1;32m      5\u001b[0m \u001b[0;34m\u001b[0m\u001b[0m\n",
      "\u001b[0;31mNameError\u001b[0m: name 'bdf' is not defined"
     ]
    }
   ],
   "source": [
    "#we need to make batter dataframe (bdf) and pitcher dataframe (pdf) everthing else below is how we are going to merge it, I think\n",
    "\n",
    "bmerged_dataframe = songdf.merge(bdf, left_on='playername', right_on='playername', how='inner')\n",
    "bmerged_dataframe.head()\n",
    "\n",
    "pmerged_dataframe = songdf.merge(pdf, left_on='playername', right_on='playername', how='inner')\n",
    "pmerged_dataframe.head()"
   ]
  },
  {
   "cell_type": "code",
   "execution_count": null,
   "metadata": {},
   "outputs": [],
   "source": [
    "bdg"
   ]
  },
  {
   "cell_type": "code",
   "execution_count": null,
   "metadata": {},
   "outputs": [],
   "source": []
  }
 ],
 "metadata": {
  "kernelspec": {
   "display_name": "Python 3",
   "language": "python",
   "name": "python3"
  },
  "language_info": {
   "codemirror_mode": {
    "name": "ipython",
    "version": 3
   },
   "file_extension": ".py",
   "mimetype": "text/x-python",
   "name": "python",
   "nbconvert_exporter": "python",
   "pygments_lexer": "ipython3",
   "version": "3.6.6"
  }
 },
 "nbformat": 4,
 "nbformat_minor": 2
}
