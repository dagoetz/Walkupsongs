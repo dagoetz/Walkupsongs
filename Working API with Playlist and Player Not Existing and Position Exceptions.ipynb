{
 "cells": [
  {
   "cell_type": "code",
   "execution_count": 3,
   "metadata": {},
   "outputs": [
    {
     "name": "stdout",
     "output_type": "stream",
     "text": [
      "Enter an active MLB player or type 'quit': Sean Doolittle\n",
      "Player Sean Doolittle Position P Average: .--- Home Runs: 0 RBI: 0\n",
      "Player Sean Doolittle Position P Wins: 3 Innings: 45.0 Strikeouts: 60\n"
     ]
    }
   ],
   "source": [
    "#what we need: exceptions if player doesn't exist, position, pandas, ohtani?\n",
    "\n",
    "#below imports everthing we need\n",
    "import pandas as pd\n",
    "import numpy as np\n",
    "import requests\n",
    "import warnings\n",
    "import sys\n",
    "import json\n",
    "\n",
    "\n",
    "mlb=pd.read_csv('MLB_Walkup.csv')\n",
    "mlbplayer=input(\"Enter an active MLB player or type 'quit': \")\n",
    "\n",
    "data = mlb\n",
    "df = pd.DataFrame(data)\n",
    "\n",
    "while True:\n",
    "    try:\n",
    "        if mlbplayer == 'quit':\n",
    "            break        \n",
    "\n",
    "        row =(df.loc[df['Player'] == mlbplayer])\n",
    "        row = pd.DataFrame({'Team': row['Team'],'Player': row['Player'], 'Artist': row['Artist'], 'Song': row['Song'], 'Playlist': row['Playlist']})\n",
    "        row\n",
    "\n",
    "\n",
    "        def make_clickable(val):\n",
    "            return '<a target=\"_blank\" href=\"{}\">{}</a>'.format(val, val)\n",
    "\n",
    "        row.style.format({'Playlist': make_clickable})\n",
    "\n",
    "        if df['Player'].count == 0:\n",
    "            print(\"player doesn't exist\")\n",
    "        else:\n",
    "\n",
    "            #beginning of mlb api\n",
    "            url=(\"http://lookup-service-prod.mlb.com//json/named.search_player_all.bam?sport_code='mlb'&active_sw='Y'&name_part='%s'\" % (mlbplayer)) \n",
    "            response=requests.get(url)\n",
    "            response.ok\n",
    "\n",
    "            #below gets player id for url2 and url3 as well as position to determine whether player is batter or pitcher\n",
    "            player=response.json()\n",
    "            playerid=player['search_player_all']['queryResults']['row']['player_id']\n",
    "            position=player['search_player_all']['queryResults']['row']['position']\n",
    "            playername=player['search_player_all']['queryResults']['row']['name_display_first_last']\n",
    "\n",
    "            if position == \"P\":\n",
    "                #below is for pitchers\n",
    "                purl=(\"http://lookup-service-prod.mlb.com//json/named.sport_pitching_tm.bam?league_list_id='mlb'&game_type='R'&season='2018'&player_id='%s'\" % (playerid))\n",
    "                response3=requests.get(purl)\n",
    "                response3.ok\n",
    "                p_stats=response3.json()\n",
    "                wins=p_stats['sport_pitching_tm']['queryResults']['row']['w']\n",
    "                innings=p_stats['sport_pitching_tm']['queryResults']['row']['ip']\n",
    "                strikeouts=p_stats['sport_pitching_tm']['queryResults']['row']['so']\n",
    "                print(\"Player\", playername, \"Position\", position, \"Wins:\", wins, \"Innings:\", innings, \"Strikeouts:\", strikeouts)\n",
    "                break\n",
    "            \n",
    "            else:\n",
    "                \n",
    "                #below is for batters\n",
    "                burl=(\"http://lookup-service-prod.mlb.com//json/named.sport_hitting_tm.bam?league_list_id='mlb'&game_type='R'&season='2018'&player_id='%s'\" % (playerid))\n",
    "                response2=requests.get(burl)\n",
    "                response2.ok\n",
    "                b_stats=response2.json()\n",
    "                average=b_stats['sport_hitting_tm']['queryResults']['row']['avg']\n",
    "                hr=b_stats['sport_hitting_tm']['queryResults']['row']['hr']\n",
    "                rbi=b_stats['sport_hitting_tm']['queryResults']['row']['rbi']\n",
    "                print(\"Player\", playername, \"Position\", position, \"Average:\", average, \"Home Runs:\", hr, \"RBI:\", rbi)\n",
    "            \n",
    "\n",
    "            \n",
    "            \n",
    "    except KeyError:\n",
    "        print(\"This player does not exist, is spelled wrong, was not active in 2018, or is not in the database of mlb.com/entertainment\")\n",
    "        break\n"
   ]
  },
  {
   "cell_type": "code",
   "execution_count": null,
   "metadata": {},
   "outputs": [],
   "source": []
  }
 ],
 "metadata": {
  "kernelspec": {
   "display_name": "Python 3",
   "language": "python",
   "name": "python3"
  },
  "language_info": {
   "codemirror_mode": {
    "name": "ipython",
    "version": 3
   },
   "file_extension": ".py",
   "mimetype": "text/x-python",
   "name": "python",
   "nbconvert_exporter": "python",
   "pygments_lexer": "ipython3",
   "version": "3.6.6"
  }
 },
 "nbformat": 4,
 "nbformat_minor": 2
}
