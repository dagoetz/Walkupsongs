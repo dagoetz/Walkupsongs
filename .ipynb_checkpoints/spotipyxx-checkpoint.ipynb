{
 "cells": [
  {
   "cell_type": "code",
   "execution_count": null,
   "metadata": {},
   "outputs": [],
   "source": [
    "import os\n",
    "import sys\n",
    "import json\n",
    "import spotipy\n",
    "import webbrowser\n",
    "import spotipy.util as util\n",
    "from json.decoder import JSONDecodeError\n",
    "\n",
    "username=sys.argv[1]\n",
    "\n",
    "# USerID: crfv73qfpinw7aq923mh3h6jv\n",
    "\n",
    "try:\n",
    "    token=util.prompt_for_user_token(username)\n",
    "    \n",
    "except:\n",
    "    os.remove(f\".cache-{username}\")\n",
    "    token=util.prompt_for_user_token(username)\n",
    "\n",
    "spotifyObject=spotipy.spotify(auth=token)\n",
    "    "
   ]
  }
 ],
 "metadata": {
  "kernelspec": {
   "display_name": "Python 3",
   "language": "python",
   "name": "python3"
  },
  "language_info": {
   "codemirror_mode": {
    "name": "ipython",
    "version": 3
   },
   "file_extension": ".py",
   "mimetype": "text/x-python",
   "name": "python",
   "nbconvert_exporter": "python",
   "pygments_lexer": "ipython3",
   "version": "3.6.6"
  }
 },
 "nbformat": 4,
 "nbformat_minor": 2
}
