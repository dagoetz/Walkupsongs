{
 "cells": [
  {
   "cell_type": "code",
   "execution_count": 32,
   "metadata": {},
   "outputs": [
    {
     "name": "stdout",
     "output_type": "stream",
     "text": [
      "input a player: Kris Bryant\n"
     ]
    },
    {
     "data": {
      "text/plain": [
       "{'search_player_all': {'copyRight': ' Copyright 2018 MLB Advanced Media, L.P.  Use of any content on this page acknowledges agreement to the terms posted here http://gdx.mlb.com/components/copyright.txt  ',\n",
       "  'queryResults': {'created': '2018-12-09T21:31:09',\n",
       "   'totalSize': '1',\n",
       "   'row': {'position': '3B',\n",
       "    'birth_country': 'USA',\n",
       "    'weight': '230',\n",
       "    'birth_state': 'NV',\n",
       "    'name_display_first_last': 'Kris Bryant',\n",
       "    'college': 'San Diego',\n",
       "    'height_inches': '5',\n",
       "    'name_display_roster': 'Bryant',\n",
       "    'sport_code': 'mlb',\n",
       "    'bats': 'R',\n",
       "    'name_first': 'Kris',\n",
       "    'team_code': 'chn',\n",
       "    'birth_city': 'Las Vegas',\n",
       "    'height_feet': '6',\n",
       "    'pro_debut_date': '2015-04-17T00:00:00',\n",
       "    'team_full': 'Chicago Cubs',\n",
       "    'team_abbrev': 'CHC',\n",
       "    'birth_date': '1992-01-04T00:00:00',\n",
       "    'throws': 'R',\n",
       "    'league': 'NL',\n",
       "    'name_display_last_first': 'Bryant, Kris',\n",
       "    'position_id': '5',\n",
       "    'high_school': 'Bonanza, Las Vegas, NV',\n",
       "    'name_use': 'Kris',\n",
       "    'player_id': '592178',\n",
       "    'name_last': 'Bryant',\n",
       "    'team_id': '112',\n",
       "    'service_years': '',\n",
       "    'active_sw': 'Y'}}}}"
      ]
     },
     "execution_count": 32,
     "metadata": {},
     "output_type": "execute_result"
    }
   ],
   "source": [
    "import requests\n",
    "import json\n",
    "\n",
    "mlbplayer=input(\"input a player: \")\n",
    "url=(\"http://lookup-service-prod.mlb.com//json/named.search_player_all.bam?sport_code='mlb'&active_sw='Y'&name_part='%s'\" % (mlbplayer)) \n",
    "response=requests.get(url)\n",
    "response.ok\n",
    "\n",
    "player=response.json()\n",
    "player\n"
   ]
  },
  {
   "cell_type": "code",
   "execution_count": 64,
   "metadata": {},
   "outputs": [
    {
     "name": "stdout",
     "output_type": "stream",
     "text": [
      "input a player: Shohei Ohtani\n",
      "Average: .285 |  Home Runs: 22 |  RBI: 61\n",
      "Wins: 4 | Innings: 51.2 | Strikeouts: 63\n"
     ]
    }
   ],
   "source": [
    "import requests\n",
    "import json\n",
    "\n",
    "mlbplayer=input(\"input a player: \")\n",
    "url=(\"http://lookup-service-prod.mlb.com//json/named.search_player_all.bam?sport_code='mlb'&active_sw='Y'&name_part='%s'\" % (mlbplayer)) \n",
    "response=requests.get(url)\n",
    "response.ok\n",
    "\n",
    "player=response.json()\n",
    "playerid=player['search_player_all']['queryResults']['row']['player_id']\n",
    "position=player['search_player_all']['queryResults']['row']['position']\n",
    "\n",
    "\n",
    "url2=(\"http://lookup-service-prod.mlb.com//json/named.sport_hitting_tm.bam?league_list_id='mlb'&game_type='R'&season='2018'&player_id='%s'\" % (playerid))\n",
    "response2=requests.get(url2)\n",
    "response2.ok\n",
    "b_stats=response2.json()\n",
    "average=b_stats['sport_hitting_tm']['queryResults']['row']['avg']\n",
    "hr=b_stats['sport_hitting_tm']['queryResults']['row']['hr']\n",
    "rbi=b_stats['sport_hitting_tm']['queryResults']['row']['rbi']\n",
    "print(\"Average:\", average, \"|  Home Runs:\", hr, \"|  RBI:\", rbi)\n",
    "\n",
    "url3=(\"http://lookup-service-prod.mlb.com//json/named.sport_pitching_tm.bam?league_list_id='mlb'&game_type='R'&season='2018'&player_id='%s'\" % (playerid))\n",
    "response3=requests.get(url3)\n",
    "response3.ok\n",
    "p_stats=response3.json()\n",
    "wins=p_stats['sport_pitching_tm']['queryResults']['row']['w']\n",
    "innings=p_stats['sport_pitching_tm']['queryResults']['row']['ip']\n",
    "strikeouts=p_stats['sport_pitching_tm']['queryResults']['row']['so']\n",
    "print(\"Wins:\", wins, \"| Innings:\", innings, \"| Strikeouts:\", strikeouts)\n",
    "\n"
   ]
  },
  {
   "cell_type": "code",
   "execution_count": 50,
   "metadata": {},
   "outputs": [],
   "source": [
    "uurl2=(\"http://lookup-service-prod.mlb.com//json/named.sport_hitting_tm.bam?league_list_id='mlb'&game_type='R'&season='2018'&player_id='%s'\" % (playerid))\n",
    "response2=requests.get(url2)\n",
    "response2.ok\n",
    "b_stats=response.json()"
   ]
  },
  {
   "cell_type": "code",
   "execution_count": null,
   "metadata": {},
   "outputs": [],
   "source": [
    "b_stats"
   ]
  }
 ],
 "metadata": {
  "kernelspec": {
   "display_name": "Python 3",
   "language": "python",
   "name": "python3"
  },
  "language_info": {
   "codemirror_mode": {
    "name": "ipython",
    "version": 3
   },
   "file_extension": ".py",
   "mimetype": "text/x-python",
   "name": "python",
   "nbconvert_exporter": "python",
   "pygments_lexer": "ipython3",
   "version": "3.6.6"
  }
 },
 "nbformat": 4,
 "nbformat_minor": 2
}
