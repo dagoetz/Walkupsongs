{
 "cells": [
  {
   "cell_type": "code",
   "execution_count": 5,
   "metadata": {
    "scrolled": true
   },
   "outputs": [
    {
     "name": "stdout",
     "output_type": "stream",
     "text": [
      "Enter an active MLB player or type 'quit': Clayton Kershaw\n"
     ]
    },
    {
     "data": {
      "text/html": [
       "<img src='https://content.mlb.com/images/headshots/current/60x60/477132@3x.png'>"
      ],
      "text/plain": [
       "<IPython.core.display.HTML object>"
      ]
     },
     "metadata": {},
     "output_type": "display_data"
    },
    {
     "name": "stdout",
     "output_type": "stream",
     "text": [
      "        Team           Player            Artist                     Song  \\\n",
      "169  Dodgers  Clayton Kershaw  The Chainsmokers  Let You Go - Radio Edit   \n",
      "\n",
      "                  Playlist Wins Innings Strikeouts  \n",
      "169  https://goo.gl/9zieev    9   161.1        155  \n"
     ]
    }
   ],
   "source": [
    "#below imports everthing we need\n",
    "import pandas as pd\n",
    "import numpy as np\n",
    "import requests\n",
    "import warnings\n",
    "import sys\n",
    "import json\n",
    "\n",
    "\n",
    "mlbsong=pd.read_csv('MLB_Walkup.csv')\n",
    "mlbplayer=input(\"Enter an active MLB player or type 'quit': \")\n",
    "\n",
    "songdata = mlbsong\n",
    "songdf = pd.DataFrame(songdata)\n",
    "\n",
    "while True:\n",
    "    try:\n",
    "        #if user enters 'quit', end program\n",
    "        if mlbplayer == 'quit':\n",
    "            break        \n",
    "        \n",
    "        #makes dataframe for team, player, artist, song, playlist link\n",
    "        row =(songdf.loc[songdf['Player'] == mlbplayer])\n",
    "        row = pd.DataFrame({'Team': row['Team'],'Player': row['Player'], 'Artist': row['Artist'], 'Song': row['Song'], 'Playlist': row['Playlist']})\n",
    "        #row\n",
    "\n",
    "        #makes playlist link clickable\n",
    "        def make_clickable(val):\n",
    "            return '<a target=\"_blank\" href=\"{}\">{}</a>'.format(val, val)\n",
    "\n",
    "        row.style.format({'Playlist': make_clickable})\n",
    "\n",
    "        if songdf['Player'].count == 0:\n",
    "            print(\"player doesn't exist\")\n",
    "        else:\n",
    "\n",
    "            #beginning of mlb api\n",
    "            url=(\"http://lookup-service-prod.mlb.com//json/named.search_player_all.bam?sport_code='mlb'&active_sw='Y'&name_part='%s'\" % (mlbplayer)) \n",
    "            response=requests.get(url)\n",
    "            response.ok\n",
    "\n",
    "            #below gets player id for url2 and url3 as well as position to determine whether player is batter or pitcher\n",
    "            player=response.json()\n",
    "            playerid=player['search_player_all']['queryResults']['row']['player_id']\n",
    "            position=player['search_player_all']['queryResults']['row']['position']\n",
    "            playername=player['search_player_all']['queryResults']['row']['name_display_first_last']\n",
    "\n",
    "            #creates picture from mlb.com's HTML\n",
    "            from IPython.display import display, HTML\n",
    "            def picture():\n",
    "                display (HTML(\"<img src='https://content.mlb.com/images/headshots/current/60x60/%s@3x.png'>\"%(playerid)))\n",
    "\n",
    "            if position == \"P\":\n",
    "                #below is for pitchers\n",
    "                purl=(\"http://lookup-service-prod.mlb.com//json/named.sport_pitching_tm.bam?league_list_id='mlb'&game_type='R'&season='2018'&player_id='%s'\" % (playerid))\n",
    "                response3=requests.get(purl)\n",
    "                response3.ok\n",
    "                p_stats=response3.json()\n",
    "                wins=p_stats['sport_pitching_tm']['queryResults']['row']['w']\n",
    "                innings=p_stats['sport_pitching_tm']['queryResults']['row']['ip']\n",
    "                strikeouts=p_stats['sport_pitching_tm']['queryResults']['row']['so']\n",
    "                pitchers = pd.DataFrame({'Team': row['Team'],'Player': row['Player'], 'Artist': row['Artist'], 'Song': row['Song'], 'Playlist': row['Playlist'],'Wins': wins, 'Innings': innings, 'Strikeouts': strikeouts})\n",
    "                picture()\n",
    "                print(pitchers)\n",
    "                break \n",
    "            \n",
    "            else:\n",
    "                #below is for batters\n",
    "                burl=(\"http://lookup-service-prod.mlb.com//json/named.sport_hitting_tm.bam?league_list_id='mlb'&game_type='R'&season='2018'&player_id='%s'\" % (playerid))\n",
    "                response2=requests.get(burl)\n",
    "                response2.ok\n",
    "                b_stats=response2.json()\n",
    "                average=b_stats['sport_hitting_tm']['queryResults']['row']['avg']\n",
    "                hr=b_stats['sport_hitting_tm']['queryResults']['row']['hr']\n",
    "                rbi=b_stats['sport_hitting_tm']['queryResults']['row']['rbi']\n",
    "                batters = pd.DataFrame({'Team': row['Team'],'Player': row['Player'], 'Artist': row['Artist'], 'Song': row['Song'], 'Playlist': row['Playlist'], 'Average': average, 'Home Runs': hr, 'RBI': rbi})\n",
    "                picture()\n",
    "                print(batters)\n",
    "                break      \n",
    "            \n",
    "    except KeyError:\n",
    "        print(\"This player does not exist, is spelled wrong, was not active in 2018, or is not in the database of mlb.com/entertainment\")\n",
    "        break\n"
   ]
  },
  {
   "cell_type": "code",
   "execution_count": 6,
   "metadata": {},
   "outputs": [
    {
     "data": {
      "text/html": [
       "<div>\n",
       "<style scoped>\n",
       "    .dataframe tbody tr th:only-of-type {\n",
       "        vertical-align: middle;\n",
       "    }\n",
       "\n",
       "    .dataframe tbody tr th {\n",
       "        vertical-align: top;\n",
       "    }\n",
       "\n",
       "    .dataframe thead th {\n",
       "        text-align: right;\n",
       "    }\n",
       "</style>\n",
       "<table border=\"1\" class=\"dataframe\">\n",
       "  <thead>\n",
       "    <tr style=\"text-align: right;\">\n",
       "      <th></th>\n",
       "      <th>Team_x</th>\n",
       "      <th>Player</th>\n",
       "      <th>Artist_x</th>\n",
       "      <th>Song_x</th>\n",
       "      <th>Playlist_x</th>\n",
       "      <th>Unnamed: 5</th>\n",
       "      <th>Unnamed: 6</th>\n",
       "      <th>Team_y</th>\n",
       "      <th>Artist_y</th>\n",
       "      <th>Song_y</th>\n",
       "      <th>Playlist_y</th>\n",
       "      <th>Wins</th>\n",
       "      <th>Innings</th>\n",
       "      <th>Strikeouts</th>\n",
       "    </tr>\n",
       "  </thead>\n",
       "  <tbody>\n",
       "    <tr>\n",
       "      <th>0</th>\n",
       "      <td>Dodgers</td>\n",
       "      <td>Clayton Kershaw</td>\n",
       "      <td>The Chainsmokers</td>\n",
       "      <td>Let You Go - Radio Edit</td>\n",
       "      <td>https://goo.gl/9zieev</td>\n",
       "      <td>NaN</td>\n",
       "      <td>NaN</td>\n",
       "      <td>Dodgers</td>\n",
       "      <td>The Chainsmokers</td>\n",
       "      <td>Let You Go - Radio Edit</td>\n",
       "      <td>https://goo.gl/9zieev</td>\n",
       "      <td>9</td>\n",
       "      <td>161.1</td>\n",
       "      <td>155</td>\n",
       "    </tr>\n",
       "  </tbody>\n",
       "</table>\n",
       "</div>"
      ],
      "text/plain": [
       "    Team_x           Player          Artist_x                   Song_x  \\\n",
       "0  Dodgers  Clayton Kershaw  The Chainsmokers  Let You Go - Radio Edit   \n",
       "\n",
       "              Playlist_x  Unnamed: 5  Unnamed: 6   Team_y          Artist_y  \\\n",
       "0  https://goo.gl/9zieev         NaN         NaN  Dodgers  The Chainsmokers   \n",
       "\n",
       "                    Song_y             Playlist_y Wins Innings Strikeouts  \n",
       "0  Let You Go - Radio Edit  https://goo.gl/9zieev    9   161.1        155  "
      ]
     },
     "execution_count": 6,
     "metadata": {},
     "output_type": "execute_result"
    }
   ],
   "source": [
    "#we need to make batter dataframe (bdf) and pitcher dataframe (pdf) everthing else below is how we are going to merge it, I think\n",
    "\n",
    "bmerged_dataframe = songdf.merge(batters, left_on='Player', right_on='Player', how='inner')\n",
    "bmerged_dataframe.head()\n",
    "\n",
    "pmerged_dataframe = songdf.merge(pitchers, left_on='Player', right_on='Player', how='inner')\n",
    "pmerged_dataframe.head()"
   ]
  },
  {
   "cell_type": "code",
   "execution_count": null,
   "metadata": {},
   "outputs": [],
   "source": [
    "bdg"
   ]
  },
  {
   "cell_type": "code",
   "execution_count": null,
   "metadata": {},
   "outputs": [],
   "source": []
  }
 ],
 "metadata": {
  "kernelspec": {
   "display_name": "Python 3",
   "language": "python",
   "name": "python3"
  },
  "language_info": {
   "codemirror_mode": {
    "name": "ipython",
    "version": 3
   },
   "file_extension": ".py",
   "mimetype": "text/x-python",
   "name": "python",
   "nbconvert_exporter": "python",
   "pygments_lexer": "ipython3",
   "version": "3.6.6"
  }
 },
 "nbformat": 4,
 "nbformat_minor": 2
}
