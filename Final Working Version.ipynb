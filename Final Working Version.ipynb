{
 "cells": [
  {
   "cell_type": "code",
   "execution_count": 1,
   "metadata": {},
   "outputs": [],
   "source": [
    "from IPython.display import display, HTML\n",
    "def picture():\n",
    "    display (HTML(\"<img src='https://content.mlb.com/images/headshots/current/60x60/%s@3x.png'>\"%(playerid)))\n"
   ]
  },
  {
   "cell_type": "code",
   "execution_count": 117,
   "metadata": {},
   "outputs": [
    {
     "name": "stdout",
     "output_type": "stream",
     "text": [
      "Enter an active MLB player or type 'quit': Mookie Betts\n"
     ]
    },
    {
     "data": {
      "text/html": [
       "<img src='https://content.mlb.com/images/headshots/current/60x60/605141@3x.png'>"
      ],
      "text/plain": [
       "<IPython.core.display.HTML object>"
      ]
     },
     "metadata": {},
     "output_type": "display_data"
    },
    {
     "data": {
      "text/html": [
       "<style  type=\"text/css\" >\n",
       "</style>  \n",
       "<table id=\"T_17eacf62_ff28_11e8_a645_8c8590186559\" > \n",
       "<thead>    <tr> \n",
       "        <th class=\"blank level0\" ></th> \n",
       "        <th class=\"col_heading level0 col0\" >Team</th> \n",
       "        <th class=\"col_heading level0 col1\" >Player</th> \n",
       "        <th class=\"col_heading level0 col2\" >Artist</th> \n",
       "        <th class=\"col_heading level0 col3\" >Song</th> \n",
       "        <th class=\"col_heading level0 col4\" >Playlist</th> \n",
       "        <th class=\"col_heading level0 col5\" >Average</th> \n",
       "        <th class=\"col_heading level0 col6\" >Home Runs</th> \n",
       "        <th class=\"col_heading level0 col7\" >RBI</th> \n",
       "    </tr></thead> \n",
       "<tbody>    <tr> \n",
       "        <th id=\"T_17eacf62_ff28_11e8_a645_8c8590186559level0_row0\" class=\"row_heading level0 row0\" >453</th> \n",
       "        <td id=\"T_17eacf62_ff28_11e8_a645_8c8590186559row0_col0\" class=\"data row0 col0\" >Red Sox</td> \n",
       "        <td id=\"T_17eacf62_ff28_11e8_a645_8c8590186559row0_col1\" class=\"data row0 col1\" >Mookie Betts</td> \n",
       "        <td id=\"T_17eacf62_ff28_11e8_a645_8c8590186559row0_col2\" class=\"data row0 col2\" >Ernest K.</td> \n",
       "        <td id=\"T_17eacf62_ff28_11e8_a645_8c8590186559row0_col3\" class=\"data row0 col3\" >I Love My City</td> \n",
       "        <td id=\"T_17eacf62_ff28_11e8_a645_8c8590186559row0_col4\" class=\"data row0 col4\" ><a target=\"_blank\" href=\"https://goo.gl/XcVQwi\">https://goo.gl/XcVQwi</a></td> \n",
       "        <td id=\"T_17eacf62_ff28_11e8_a645_8c8590186559row0_col5\" class=\"data row0 col5\" >.346</td> \n",
       "        <td id=\"T_17eacf62_ff28_11e8_a645_8c8590186559row0_col6\" class=\"data row0 col6\" >32</td> \n",
       "        <td id=\"T_17eacf62_ff28_11e8_a645_8c8590186559row0_col7\" class=\"data row0 col7\" >80</td> \n",
       "    </tr></tbody> \n",
       "</table> "
      ],
      "text/plain": [
       "<pandas.io.formats.style.Styler at 0x111956550>"
      ]
     },
     "metadata": {},
     "output_type": "display_data"
    }
   ],
   "source": [
    "#below imports everthing we need\\n\n",
    "import pandas as pd\n",
    "import numpy as np\n",
    "import requests\n",
    "import warnings\n",
    "import sys\n",
    "import json\n",
    "from IPython.display import display, HTML\n",
    "\n",
    "mlbsong=pd.read_csv('MLB_Walkup.csv')\n",
    "mlbplayer=input(\"Enter an active MLB player or type 'quit': \")\n",
    "songdata = mlbsong\n",
    "songdf = pd.DataFrame(songdata)\n",
    "    \n",
    "while True:\n",
    "    try:\n",
    "        #if user enters 'quit', end program\\n\",\n",
    "        if mlbplayer == 'quit':\n",
    "            break        \n",
    "    \n",
    "   #makes dataframe for team, player, artist, song, playlist link\n",
    "        row =(songdf.loc[songdf['Player'] == mlbplayer])\n",
    "        row = pd.DataFrame({'Team': row['Team'],'Player': row['Player'], 'Artist': row['Artist'], 'Song': row['Song'], 'Playlist': row['Playlist']})\n",
    "        #row\n",
    "   \n",
    "        #makes playlist link clickable\n",
    "        def make_clickable(val):\n",
    "            return '<a target=\\\"_blank\\\" href=\\\"{}\\\">{}</a>'.format(val, val)\n",
    "   \n",
    "        row.style.format({'Playlist': make_clickable})\n",
    "    \n",
    "        if songdf['Player'].count == 0:\n",
    "            print(\"player doesn't exist\")\n",
    "        else:\n",
    "    \n",
    "        #beginning of mlb api\n",
    "            url=(\"http://lookup-service-prod.mlb.com//json/named.search_player_all.bam?sport_code='mlb'&active_sw='Y'&name_part='%s'\" % (mlbplayer))\n",
    "            response=requests.get(url)\n",
    "            response.ok\n",
    "    \n",
    "     #below gets player id for url2 and url3 as well as position to determine whether player is batter or pitcher\\n\",\n",
    "            player=response.json()\n",
    "            playerid=player['search_player_all']['queryResults']['row']['player_id']\n",
    "            position=player['search_player_all']['queryResults']['row']['position']\n",
    "            playername=player['search_player_all']['queryResults']['row']['name_display_first_last']\n",
    "    \n",
    "    \n",
    "        #get the players stats if the player entered is a pitcher\n",
    "        if position == \"P\":\n",
    "            #below is for pitchers\n",
    "            purl=(\"http://lookup-service-prod.mlb.com//json/named.sport_pitching_tm.bam?league_list_id='mlb'&game_type='R'&season='2018'&player_id='%s'\" % (playerid))\n",
    "            response3=requests.get(purl)\n",
    "            response3.ok\n",
    "            p_stats=response3.json()\n",
    "            wins=p_stats['sport_pitching_tm']['queryResults']['row']['w']\n",
    "            innings=p_stats['sport_pitching_tm']['queryResults']['row']['ip']\n",
    "            strikeouts=p_stats['sport_pitching_tm']['queryResults']['row']['so']\n",
    "            pitchers = pd.DataFrame({'Team': row['Team'],'Player': row['Player'], 'Artist': row['Artist'], 'Song': row['Song'], 'Playlist': row['Playlist'],'Wins': wins, 'Innings': innings, 'Strikeouts': strikeouts})\n",
    "            picture()\n",
    "            display(pitchers.style.format({'Playlist': make_clickable}))\n",
    "            break\n",
    "\n",
    "        #get the players stats if the player entered is a batters\n",
    "        else:\n",
    "            # below is for batters\n",
    "            burl=(\"http://lookup-service-prod.mlb.com//json/named.sport_hitting_tm.bam?league_list_id='mlb'&game_type='R'&season='2018'&player_id='%s'\" % (playerid))\n",
    "            response2=requests.get(burl)\n",
    "            response2.ok\n",
    "            b_stats=response2.json()\n",
    "            average=b_stats['sport_hitting_tm']['queryResults']['row']['avg']\n",
    "            hr=b_stats['sport_hitting_tm']['queryResults']['row']['hr']\n",
    "            rbi=b_stats['sport_hitting_tm']['queryResults']['row']['rbi']\n",
    "            batters = pd.DataFrame({'Team': row['Team'],'Player': row['Player'], 'Artist': row['Artist'], 'Song': row['Song'], 'Playlist': row['Playlist'], 'Average': average, 'Home Runs': hr, 'RBI': rbi})\n",
    "            picture()\n",
    "            display(batters.style.format({'Playlist': make_clickable}))\n",
    "            break\n",
    "            \n",
    "    #if player was traded the stats are not listen in the api we used       \n",
    "    except TypeError:\n",
    "        print(\"This player was traded midseason and does not have combined stats on MLB.com, pick a different player\")\n",
    "        break\n",
    "   #if player does not exist, then this error message will pop up.                \n",
    "    except KeyError:\n",
    "        print(\"This player does not exist, is spelled wrong, was not active in 2018, or is not in the database of mlb.com/entertainment\")\n",
    "        break\n"
   ]
  },
  {
   "cell_type": "code",
   "execution_count": 153,
   "metadata": {},
   "outputs": [
    {
     "name": "stdout",
     "output_type": "stream",
     "text": [
      "Enter an active MLB player or type 'quit': Mike Trout\n"
     ]
    },
    {
     "data": {
      "text/html": [
       "<img src='https://content.mlb.com/images/headshots/current/60x60/545361@3x.png'>"
      ],
      "text/plain": [
       "<IPython.core.display.HTML object>"
      ]
     },
     "metadata": {},
     "output_type": "display_data"
    },
    {
     "data": {
      "text/html": [
       "<style  type=\"text/css\" >\n",
       "</style>  \n",
       "<table id=\"T_67dfa54a_ff2f_11e8_92cd_8c8590186559\" > \n",
       "<thead>    <tr> \n",
       "        <th class=\"blank level0\" ></th> \n",
       "        <th class=\"col_heading level0 col0\" >Team</th> \n",
       "        <th class=\"col_heading level0 col1\" >Player</th> \n",
       "        <th class=\"col_heading level0 col2\" >Artist</th> \n",
       "        <th class=\"col_heading level0 col3\" >Song</th> \n",
       "        <th class=\"col_heading level0 col4\" >Playlist</th> \n",
       "        <th class=\"col_heading level0 col5\" >Average</th> \n",
       "        <th class=\"col_heading level0 col6\" >Home Runs</th> \n",
       "        <th class=\"col_heading level0 col7\" >RBI</th> \n",
       "    </tr></thead> \n",
       "<tbody>    <tr> \n",
       "        <th id=\"T_67dfa54a_ff2f_11e8_92cd_8c8590186559level0_row0\" class=\"row_heading level0 row0\" >653</th> \n",
       "        <td id=\"T_67dfa54a_ff2f_11e8_92cd_8c8590186559row0_col0\" class=\"data row0 col0\" >Angels</td> \n",
       "        <td id=\"T_67dfa54a_ff2f_11e8_92cd_8c8590186559row0_col1\" class=\"data row0 col1\" >Mike Trout</td> \n",
       "        <td id=\"T_67dfa54a_ff2f_11e8_92cd_8c8590186559row0_col2\" class=\"data row0 col2\" >Kanye West</td> \n",
       "        <td id=\"T_67dfa54a_ff2f_11e8_92cd_8c8590186559row0_col3\" class=\"data row0 col3\" >Yikes</td> \n",
       "        <td id=\"T_67dfa54a_ff2f_11e8_92cd_8c8590186559row0_col4\" class=\"data row0 col4\" ><a target=\"_blank\" href=\"https://goo.gl/US5Lkj\">https://goo.gl/US5Lkj</a></td> \n",
       "        <td id=\"T_67dfa54a_ff2f_11e8_92cd_8c8590186559row0_col5\" class=\"data row0 col5\" >.312</td> \n",
       "        <td id=\"T_67dfa54a_ff2f_11e8_92cd_8c8590186559row0_col6\" class=\"data row0 col6\" >39</td> \n",
       "        <td id=\"T_67dfa54a_ff2f_11e8_92cd_8c8590186559row0_col7\" class=\"data row0 col7\" >79</td> \n",
       "    </tr></tbody> \n",
       "</table> "
      ],
      "text/plain": [
       "<pandas.io.formats.style.Styler at 0x1099ddc18>"
      ]
     },
     "metadata": {},
     "output_type": "display_data"
    }
   ],
   "source": [
    "#below imports everthing we need\\n\n",
    "import pandas as pd\n",
    "import numpy as np\n",
    "import requests\n",
    "import warnings\n",
    "import sys\n",
    "import json\n",
    "from IPython.display import display, HTML\n",
    "\n",
    "mlbsong=pd.read_csv('MLB_Walkup.csv')\n",
    "mlbplayer=input(\"Enter an active MLB player or type 'quit': \")\n",
    "songdata = mlbsong\n",
    "songdf = pd.DataFrame(songdata)\n",
    "    \n",
    "while True:\n",
    "    try:\n",
    "        #if user enters 'quit', end program\\n\",\n",
    "        if mlbplayer == 'quit':\n",
    "            break        \n",
    "    \n",
    "   #makes dataframe for team, player, artist, song, playlist link\n",
    "        row =(songdf.loc[songdf['Player'] == mlbplayer])\n",
    "        row = pd.DataFrame({'Team': row['Team'],'Player': row['Player'], 'Artist': row['Artist'], 'Song': row['Song'], 'Playlist': row['Playlist']})\n",
    "        #row\n",
    "   \n",
    "        #makes playlist link clickable\n",
    "        def make_clickable(val):\n",
    "            return '<a target=\\\"_blank\\\" href=\\\"{}\\\">{}</a>'.format(val, val)\n",
    "   \n",
    "        row.style.format({'Playlist': make_clickable})\n",
    "    \n",
    "        if songdf['Player'].count == 0:\n",
    "            print(\"player doesn't exist\")\n",
    "        else:\n",
    "    \n",
    "        #beginning of mlb api\n",
    "            url=(\"http://lookup-service-prod.mlb.com//json/named.search_player_all.bam?sport_code='mlb'&active_sw='Y'&name_part='%s'\" % (mlbplayer))\n",
    "            response=requests.get(url)\n",
    "            response.ok\n",
    "    \n",
    "     #below gets player id for url2 and url3 as well as position to determine whether player is batter or pitcher\\n\",\n",
    "            player=response.json()\n",
    "            playerid=player['search_player_all']['queryResults']['row']['player_id']\n",
    "            position=player['search_player_all']['queryResults']['row']['position']\n",
    "            playername=player['search_player_all']['queryResults']['row']['name_display_first_last']\n",
    "    \n",
    "        \n",
    "        \n",
    "        if position == \"P\":\n",
    "            #below is for pitchers\n",
    "            purl=(\"http://lookup-service-prod.mlb.com//json/named.sport_pitching_tm.bam?league_list_id='mlb'&game_type='R'&season='2018'&player_id='%s'\" % (playerid))\n",
    "            response3=requests.get(purl)\n",
    "            response3.ok\n",
    "            p_stats=response3.json()\n",
    "            wins=p_stats['sport_pitching_tm']['queryResults']['row']['w']\n",
    "            innings=p_stats['sport_pitching_tm']['queryResults']['row']['ip']\n",
    "            strikeouts=p_stats['sport_pitching_tm']['queryResults']['row']['so']\n",
    "            era=p_stats['sport_pitching_tm']['queryResults']['row']['era']\n",
    "            pitchers = pd.DataFrame({'Team': row['Team'],'Player': row['Player'], 'Artist': row['Artist'], 'Song': row['Song'], 'Playlist': row['Playlist'],'Wins': wins, 'Innings': innings, 'Strikeouts': strikeouts, 'ERA': era})\n",
    "            picture()\n",
    "            display(pitchers.style.format({'Playlist': make_clickable}))\n",
    "            break\n",
    "            \n",
    "        \n",
    "            \n",
    "\n",
    "        else:\n",
    "            # below is for batters\n",
    "            burl=(\"http://lookup-service-prod.mlb.com//json/named.sport_hitting_tm.bam?league_list_id='mlb'&game_type='R'&season='2018'&player_id='%s'\" % (playerid))\n",
    "            response2=requests.get(burl)\n",
    "            response2.ok\n",
    "            b_stats=response2.json()\n",
    "            average=b_stats['sport_hitting_tm']['queryResults']['row']['avg']\n",
    "            hr=b_stats['sport_hitting_tm']['queryResults']['row']['hr']\n",
    "            rbi=b_stats['sport_hitting_tm']['queryResults']['row']['rbi']\n",
    "            batters = pd.DataFrame({'Team': row['Team'],'Player': row['Player'], 'Artist': row['Artist'], 'Song': row['Song'], 'Playlist': row['Playlist'], 'Average': average, 'Home Runs': hr, 'RBI': rbi})\n",
    "            picture()\n",
    "            display(batters.style.format({'Playlist': make_clickable}))\n",
    "            break\n",
    "            \n",
    "    except TypeError:\n",
    "        print(\"This player was traded midseason and does not have combined stats on MLB.com, pick a different player\")\n",
    "        break\n",
    "                   \n",
    "    except KeyError:\n",
    "        print(\"This player does not exist, is spelled wrong, was not active in 2018, or is not in the database of mlb.com/entertainment\")\n",
    "        break\n",
    "        \n"
   ]
  },
  {
   "cell_type": "code",
   "execution_count": null,
   "metadata": {},
   "outputs": [],
   "source": []
  },
  {
   "cell_type": "code",
   "execution_count": null,
   "metadata": {},
   "outputs": [],
   "source": []
  }
 ],
 "metadata": {
  "kernelspec": {
   "display_name": "Python 3",
   "language": "python",
   "name": "python3"
  },
  "language_info": {
   "codemirror_mode": {
    "name": "ipython",
    "version": 3
   },
   "file_extension": ".py",
   "mimetype": "text/x-python",
   "name": "python",
   "nbconvert_exporter": "python",
   "pygments_lexer": "ipython3",
   "version": "3.6.6"
  }
 },
 "nbformat": 4,
 "nbformat_minor": 2
}
