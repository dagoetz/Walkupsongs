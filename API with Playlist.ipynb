{
 "cells": [
  {
   "cell_type": "code",
   "execution_count": 3,
   "metadata": {},
   "outputs": [
    {
     "name": "stdout",
     "output_type": "stream",
     "text": [
      "Enter an active MLB player: Max Scherzer\n",
      "          Team        Player Artist     Song  \\\n",
      "417  Nationals  Max Scherzer     NF  No Name   \n",
      "\n",
      "                                              Playlist  \n",
      "417  https://open.spotify.com/playlist/3wnvP57D8Jxm...  \n",
      "Average: .243 Home Runs: 0 RBI: 6\n",
      "Wins: 18 Innings: 220.2 Strikeouts: 300\n"
     ]
    },
    {
     "data": {
      "text/html": [
       "<img src='https://content.mlb.com/images/headshots/current/60x60/453286@3x.png'>"
      ],
      "text/plain": [
       "<IPython.core.display.HTML object>"
      ]
     },
     "metadata": {},
     "output_type": "display_data"
    }
   ],
   "source": [
    "import pandas as pd\n",
    "import numpy as np\n",
    "import requests\n",
    "import warnings\n",
    "import sys\n",
    "import json\n",
    "\n",
    "#import everthing we need\n",
    "\n",
    "mlb=pd.read_csv('MLB_Walkup.csv')\n",
    "mlbplayer=input(\"Enter an active MLB player: \")\n",
    "\n",
    "data = mlb\n",
    "df = pd.DataFrame(data)\n",
    "\n",
    "\n",
    "row =(df.loc[df['Player'] == mlbplayer])\n",
    "row = pd.DataFrame({'Team': row['Team'],'Player': row['Player'], 'Artist': row['Artist'], 'Song': row['Song'], 'Playlist': row['Playlist']})\n",
    "row\n",
    "\n",
    "def make_clickable(val):\n",
    "    # target _blank to open new window\n",
    "    return '<a target=\"_blank\" href=\"{}\">{}</a>'.format(val, val)\n",
    "\n",
    "row.style.format({'Playlist': make_clickable})\n",
    "print(row)\n",
    "\n",
    "#beginning of mlb api\n",
    "url=(\"http://lookup-service-prod.mlb.com//json/named.search_player_all.bam?sport_code='mlb'&active_sw='Y'&name_part='%s'\" % (mlbplayer)) \n",
    "response=requests.get(url)\n",
    "response.ok\n",
    "\n",
    "#below gets player id for url2 and url3 as well as position to determine whether player is batter or pitcher\n",
    "player=response.json()\n",
    "playerid=player['search_player_all']['queryResults']['row']['player_id']\n",
    "position=player['search_player_all']['queryResults']['row']['position']\n",
    "playername=player['search_player_all']['queryResults']['row']['name_display_first_last']\n",
    "\n",
    "#below is for batters\n",
    "url2=(\"http://lookup-service-prod.mlb.com//json/named.sport_hitting_tm.bam?league_list_id='mlb'&game_type='R'&season='2018'&player_id='%s'\" % (playerid))\n",
    "response2=requests.get(url2)\n",
    "response2.ok\n",
    "b_stats=response2.json()\n",
    "average=b_stats['sport_hitting_tm']['queryResults']['row']['avg']\n",
    "hr=b_stats['sport_hitting_tm']['queryResults']['row']['hr']\n",
    "rbi=b_stats['sport_hitting_tm']['queryResults']['row']['rbi']\n",
    "print(\"Average:\", average, \"Home Runs:\", hr, \"RBI:\", rbi)\n",
    "\n",
    "#below is for pitchers\n",
    "url3=(\"http://lookup-service-prod.mlb.com//json/named.sport_pitching_tm.bam?league_list_id='mlb'&game_type='R'&season='2018'&player_id='%s'\" % (playerid))\n",
    "response3=requests.get(url3)\n",
    "response3.ok\n",
    "p_stats=response3.json()\n",
    "wins=p_stats['sport_pitching_tm']['queryResults']['row']['w']\n",
    "innings=p_stats['sport_pitching_tm']['queryResults']['row']['ip']\n",
    "strikeouts=p_stats['sport_pitching_tm']['queryResults']['row']['so']\n",
    "print(\"Wins:\", wins, \"Innings:\", innings, \"Strikeouts:\", strikeouts)\n",
    "\n",
    "picture()"
   ]
  },
  {
   "cell_type": "code",
   "execution_count": null,
   "metadata": {},
   "outputs": [],
   "source": []
  },
  {
   "cell_type": "code",
   "execution_count": 2,
   "metadata": {},
   "outputs": [],
   "source": [
    "from IPython.display import display, HTML\n",
    "def picture():\n",
    "    display (HTML(\"<img src='https://content.mlb.com/images/headshots/current/60x60/%s@3x.png'>\"%(playerid)))\n"
   ]
  },
  {
   "cell_type": "code",
   "execution_count": null,
   "metadata": {},
   "outputs": [],
   "source": []
  },
  {
   "cell_type": "code",
   "execution_count": null,
   "metadata": {},
   "outputs": [],
   "source": []
  }
 ],
 "metadata": {
  "kernelspec": {
   "display_name": "Python 3",
   "language": "python",
   "name": "python3"
  },
  "language_info": {
   "codemirror_mode": {
    "name": "ipython",
    "version": 3
   },
   "file_extension": ".py",
   "mimetype": "text/x-python",
   "name": "python",
   "nbconvert_exporter": "python",
   "pygments_lexer": "ipython3",
   "version": "3.6.6"
  }
 },
 "nbformat": 4,
 "nbformat_minor": 2
}
